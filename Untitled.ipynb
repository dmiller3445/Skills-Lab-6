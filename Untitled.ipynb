{
 "cells": [
  {
   "cell_type": "code",
   "execution_count": 3,
   "metadata": {},
   "outputs": [
    {
     "name": "stdin",
     "output_type": "stream",
     "text": [
      "What is your name? Dominic\n",
      "What is your least favorite number? 10\n",
      "What is your favorite number? 2\n"
     ]
    },
    {
     "name": "stdout",
     "output_type": "stream",
     "text": [
      "Dominic 's least favourite number is: 10\n",
      "Dominic's favorite number is: 2\n"
     ]
    }
   ],
   "source": [
    "name = input(\"What is your name?\")\n",
    "worstNumber = input(\"What is your least favorite number?\")\n",
    "bestNumber = input(\"What is your favorite number?\")\n",
    "print(name+ \"'s least favourite number is:\", worstNumber)\n",
    "print(name+ \"'s favorite number is:\", bestNumber)"
   ]
  },
  {
   "cell_type": "code",
   "execution_count": null,
   "metadata": {},
   "outputs": [],
   "source": []
  }
 ],
 "metadata": {
  "kernelspec": {
   "display_name": "Python 3",
   "language": "python",
   "name": "python3"
  },
  "language_info": {
   "codemirror_mode": {
    "name": "ipython",
    "version": 3
   },
   "file_extension": ".py",
   "mimetype": "text/x-python",
   "name": "python",
   "nbconvert_exporter": "python",
   "pygments_lexer": "ipython3",
   "version": "3.8.3"
  }
 },
 "nbformat": 4,
 "nbformat_minor": 4
}
